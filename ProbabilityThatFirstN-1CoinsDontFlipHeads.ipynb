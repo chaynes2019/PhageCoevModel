{
 "cells": [
  {
   "cell_type": "code",
   "execution_count": 5,
   "id": "8c40ea5a-e829-4044-8b6e-35abb89b72a3",
   "metadata": {},
   "outputs": [],
   "source": [
    "import itertools as itTools\n",
    "import time\n",
    "import numpy as np\n",
    "import math"
   ]
  },
  {
   "cell_type": "markdown",
   "id": "ee91ce2b-7013-4e32-bdc3-8afa68561b65",
   "metadata": {},
   "source": [
    "What I need to do is to be able to generate all the combinations of letters of length r, and then generate the product of each combination by using the letters in the combination as indices to access the heads probabilities for each letter."
   ]
  },
  {
   "cell_type": "code",
   "execution_count": 6,
   "id": "5969ab3b-56e8-47b8-9837-02354a08b4d3",
   "metadata": {},
   "outputs": [],
   "source": [
    "def everyCoinTailsProb(headsProb, numCoins):\n",
    "    return (1 - headsProb)**numCoins"
   ]
  },
  {
   "cell_type": "code",
   "execution_count": 34,
   "id": "136d6df4-3e6b-4c38-af92-930c262af8d3",
   "metadata": {},
   "outputs": [
    {
     "name": "stdout",
     "output_type": "stream",
     "text": [
      "Pop Fracs = [0.5, 0.25, 0.25]\n",
      "[0.9999990463256836, 0.9990234375, 0.9990234375]\n",
      "[9.5367431640625e-07, 0.0009765625, 0.0009765625]\n"
     ]
    }
   ],
   "source": [
    "numCoinsInPops = [20, 10, 10]\n",
    "totalPops = np.sum(numCoinsInPops)\n",
    "normalizedNumCoinsInPops = numCoinsInPops / totalPops\n",
    "nonzeroNumCoinsInPops = [numCoins for numCoins in normalizedNumCoinsInPops if numCoins != 0]\n",
    "print(\"Pop Fracs = {}\".format(nonzeroNumCoinsInPops))\n",
    "m = len(nonzeroNumCoinsInPops)\n",
    "letterIndices = [k for k in range(m)]\n",
    "#These probabilities are just designed as tests to give each coin a different probability without any of them being 1 or 0\n",
    "headsProbabilities = [0.5, 0.5, 0.5]\n",
    "amalgamatedHeadsProbabilities = [1 - everyCoinTailsProb(headsProbabilities[k], numCoinsInPops[k]) for k in range(m)]\n",
    "print(amalgamatedHeadsProbabilities)\n",
    "tailsProbabilities = [1 - amalgamatedHeadsProbabilities[k] for k in range(m)]\n",
    "print(tailsProbabilities)"
   ]
  },
  {
   "cell_type": "code",
   "execution_count": 35,
   "id": "5a319986-ef53-4020-b8b0-1529bc06e1ff",
   "metadata": {},
   "outputs": [
    {
     "name": "stdout",
     "output_type": "stream",
     "text": [
      "\n",
      "Permutation = ()\n",
      "Associated Tails Probabilities = []\n",
      "Final Sum of Permutation Products = 2\n",
      "Time Taken: 0.00032869999999984856 ms\n",
      "\n",
      "[0.9999990463256836, 0, 0]\n",
      "\n",
      "Permutation = (1,)\n",
      "Associated Tails Probabilities = [0.0009765625]\n",
      "\n",
      "Permutation = (2,)\n",
      "Associated Tails Probabilities = [0.0009765625]\n",
      "Final Sum of Permutation Products = 0.001953125\n",
      "Time Taken: 0.00012019999999957065 ms\n",
      "\n",
      "[0.9999990463256836, 0.0009765615686774254, 0]\n",
      "\n",
      "Permutation = (1, 2)\n",
      "Associated Tails Probabilities = [0.0009765625, 0.0009765625]\n",
      "\n",
      "Permutation = (2, 1)\n",
      "Associated Tails Probabilities = [0.0009765625, 0.0009765625]\n",
      "Final Sum of Permutation Products = 1.9073486328125e-06\n",
      "Time Taken: 4.7999999999603915e-05 ms\n",
      "\n",
      "[0.9999990463256836, 0.0009765615686774254, 9.536734069115482e-07]\n",
      "\n",
      "Probability that the first heads occurs at type 0 is 0.33365885385592264\n",
      "\n",
      "Permutation = ()\n",
      "Associated Tails Probabilities = []\n",
      "Final Sum of Permutation Products = 2\n",
      "Time Taken: 1.2700000000087641e-05 ms\n",
      "\n",
      "[0.9990234375, 0, 0]\n",
      "\n",
      "Permutation = (0,)\n",
      "Associated Tails Probabilities = [9.5367431640625e-07]\n",
      "\n",
      "Permutation = (2,)\n",
      "Associated Tails Probabilities = [0.0009765625]\n",
      "Final Sum of Permutation Products = 0.0009775161743164062\n",
      "Time Taken: 3.949999999974807e-05 ms\n",
      "\n",
      "[0.9990234375, 0.0004882807843387127, 0]\n",
      "\n",
      "Permutation = (0, 2)\n",
      "Associated Tails Probabilities = [9.5367431640625e-07, 0.0009765625]\n",
      "\n",
      "Permutation = (2, 0)\n",
      "Associated Tails Probabilities = [0.0009765625, 9.5367431640625e-07]\n",
      "Final Sum of Permutation Products = 1.862645149230957e-09\n",
      "Time Taken: 4.039999999960742e-05 ms\n",
      "\n",
      "[0.9990234375, 0.0004882807843387127, 9.304130799137056e-10]\n",
      "\n",
      "Probability that the first heads occurs at type 1 is 0.33317057307158393\n",
      "\n",
      "Permutation = ()\n",
      "Associated Tails Probabilities = []\n",
      "Final Sum of Permutation Products = 2\n",
      "Time Taken: 1.0200000000182285e-05 ms\n",
      "\n",
      "[0.9990234375, 0, 0]\n",
      "\n",
      "Permutation = (0,)\n",
      "Associated Tails Probabilities = [9.5367431640625e-07]\n",
      "\n",
      "Permutation = (1,)\n",
      "Associated Tails Probabilities = [0.0009765625]\n",
      "Final Sum of Permutation Products = 0.0009775161743164062\n",
      "Time Taken: 3.639999999993648e-05 ms\n",
      "\n",
      "[0.9990234375, 0.0004882807843387127, 0]\n",
      "\n",
      "Permutation = (0, 1)\n",
      "Associated Tails Probabilities = [9.5367431640625e-07, 0.0009765625]\n",
      "\n",
      "Permutation = (1, 0)\n",
      "Associated Tails Probabilities = [0.0009765625, 9.5367431640625e-07]\n",
      "Final Sum of Permutation Products = 1.862645149230957e-09\n",
      "Time Taken: 3.8099999999374745e-05 ms\n",
      "\n",
      "[0.9990234375, 0.0004882807843387127, 9.304130799137056e-10]\n",
      "\n",
      "Probability that the first heads occurs at type 2 is 0.33317057307158393\n",
      "[0.33365885385592264, 0.33317057307158393, 0.33317057307158393]\n",
      "Sum of the Probabilities for each type: 0.9999999999990905\n"
     ]
    }
   ],
   "source": [
    "typeISelectionProb = [0 for k in range(len(numCoinsInPops))]\n",
    "for i in range(m):\n",
    "    probThatN_0EqualToNConditionedTypeIsJ = [0 for k in range(m)]\n",
    "    for n in range(m):\n",
    "        r = n\n",
    "        permutations = itTools.permutations([index for index in letterIndices if index != i], r)\n",
    "        #In the model's case, r = n - 1\n",
    "        sum = 0\n",
    "        startLoop = time.process_time()\n",
    "        for permutation in permutations:\n",
    "            print(\"\\nPermutation = {}\".format(permutation))\n",
    "            permutationTailProbs = [tailsProbabilities[permutationIdx] for permutationIdx in permutation]\n",
    "            print(\"Associated Tails Probabilities = {}\".format(permutationTailProbs))\n",
    "            if (r == 0):\n",
    "                product = math.factorial(m - 1)\n",
    "            else:\n",
    "                product = np.prod(permutationTailProbs)\n",
    "            #This function actually returns 1 for an empty permutation list, so that actually works really well for n_0 = 1! But why does it do this?\n",
    "            #Actually, that's the problem! It actually needs to return (m-1)! (i.e. 1 for each permutation of all the back elements that aren't actually effecting when the heads shows up)\n",
    "            sum += product\n",
    "        endLoop = time.process_time()\n",
    "        print(\"Final Sum of Permutation Products = {}\".format(sum))\n",
    "        print(\"Time Taken: {} ms\\n\".format(endLoop - startLoop))\n",
    "        probThatN_0EqualToNConditionedTypeIsJ[n] = (amalgamatedHeadsProbabilities[i] / math.factorial(m - 1)) * sum\n",
    "        print(probThatN_0EqualToNConditionedTypeIsJ)\n",
    "    \n",
    "    overallProb = np.sum(probThatN_0EqualToNConditionedTypeIsJ) / m\n",
    "    print(\"\\nProbability that the first heads occurs at type {} is {}\".format(i, overallProb))\n",
    "    typeISelectionProb[i] = overallProb\n",
    "print(typeISelectionProb)\n",
    "print(\"Sum of the Probabilities for each type: {}\".format(np.sum(typeISelectionProb)))"
   ]
  },
  {
   "cell_type": "code",
   "execution_count": null,
   "id": "da269978-ce4f-4724-9324-124a56fb977d",
   "metadata": {},
   "outputs": [],
   "source": []
  },
  {
   "cell_type": "code",
   "execution_count": null,
   "id": "71e9da02-1700-4927-8702-adc3205393cf",
   "metadata": {},
   "outputs": [],
   "source": []
  }
 ],
 "metadata": {
  "kernelspec": {
   "display_name": "Python 3 (ipykernel)",
   "language": "python",
   "name": "python3"
  },
  "language_info": {
   "codemirror_mode": {
    "name": "ipython",
    "version": 3
   },
   "file_extension": ".py",
   "mimetype": "text/x-python",
   "name": "python",
   "nbconvert_exporter": "python",
   "pygments_lexer": "ipython3",
   "version": "3.11.4"
  }
 },
 "nbformat": 4,
 "nbformat_minor": 5
}
