{
 "cells": [
  {
   "cell_type": "code",
   "execution_count": 1,
   "id": "d6260b01-d820-4740-871d-c979e09c081c",
   "metadata": {},
   "outputs": [],
   "source": [
    "class NetworkModel():\n",
    "    def __init__():\n",
    "        hostMutationAdjacencyMatrix\n",
    "        viralMutationAdjacencyMatrix\n",
    "        infectionMatrix\n",
    "        instances\n",
    "\n",
    "        networkParameters = {\"Host Mutation Matrix\" : hostMutationAdjacencyMatrix,\n",
    "                             \"Viral Mutation Matrix\" : viralMutationAdjacencyMatrix,\n",
    "                             \"Infection Matrix\" : infectionMatrix}\n",
    "\n",
    "    def createInstance():\n",
    "        return 0\n",
    "\n",
    "    def getNetworkParameter(networkParameter):\n",
    "        return networkParameters[networkParameter]\n",
    "\n",
    "    def displayModel():\n",
    "        return 0\n",
    "\n",
    "    def getInstance():\n",
    "        return 0\n",
    "\n",
    "    def saveModel():\n",
    "        return 0\n",
    "\n",
    "    def loadModel():\n",
    "        return 0\n",
    "\n",
    "    def loadInstance():\n",
    "        return 0\n",
    "        \n",
    "        "
   ]
  },
  {
   "cell_type": "code",
   "execution_count": null,
   "id": "b59068ca-a7a8-4eb2-994a-ab9105af03cf",
   "metadata": {},
   "outputs": [],
   "source": []
  }
 ],
 "metadata": {
  "kernelspec": {
   "display_name": "Python 3 (ipykernel)",
   "language": "python",
   "name": "python3"
  },
  "language_info": {
   "codemirror_mode": {
    "name": "ipython",
    "version": 3
   },
   "file_extension": ".py",
   "mimetype": "text/x-python",
   "name": "python",
   "nbconvert_exporter": "python",
   "pygments_lexer": "ipython3",
   "version": "3.11.4"
  }
 },
 "nbformat": 4,
 "nbformat_minor": 5
}
