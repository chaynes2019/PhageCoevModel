{
 "cells": [
  {
   "cell_type": "code",
   "execution_count": 3,
   "id": "b17849bd-3794-4201-874a-74358c94355f",
   "metadata": {},
   "outputs": [],
   "source": [
    "import numpy as np\n",
    "import matplotlib.pyplot as plt\n",
    "import math"
   ]
  },
  {
   "cell_type": "markdown",
   "id": "26eae817-b3bf-475e-a9f9-a3f44e583eaa",
   "metadata": {},
   "source": [
    "For step k:\n",
    "1. Find minimal population timer(s).\n",
    "2. Set k + 1th time value to time[k] + minimal population timer\n",
    "3. Update corresponding population accordingly.\n",
    "4. Recompute growth rates for each population.\n",
    "5. Recompute timers according to the function (1 - t_A/t_B)[(r_old/r_new)*t_B) where A is the minimal timer and B is a given timer.\n",
    "6. For any timers that are zero, generate new time value based on growth rate and exponential distribution.\n",
    "\n",
    "Repeat as much as you'd like!"
   ]
  },
  {
   "cell_type": "markdown",
   "id": "cba3f27a-88cb-41d5-9bcd-5e85633d3268",
   "metadata": {},
   "source": [
    "Note: it appears that the numpy.random.exponential function works just like random(\"Exponential\", ...) in MATLAB"
   ]
  },
  {
   "cell_type": "code",
   "execution_count": 175,
   "id": "7b38ee2a-0a8e-44e1-a864-6a806bcd7cf9",
   "metadata": {},
   "outputs": [],
   "source": [
    "carryingCapacity = 1000\n",
    "def computeGrowthRate(pops, popIdx):\n",
    "    if popIdx == 0:\n",
    "        return pops[0]*(1 - (pops[0] + pops[1]) / carryingCapacity) / 10\n",
    "    elif popIdx == 1:\n",
    "        return pops[1]*(1 - (pops[0] + pops[1]) / carryingCapacity) / 10\n",
    "    else:\n",
    "        print(\"Your population indices need some work.\")"
   ]
  },
  {
   "cell_type": "code",
   "execution_count": 202,
   "id": "94144c9f-0ef4-4af2-bd4d-6730981fb5d2",
   "metadata": {},
   "outputs": [],
   "source": [
    "def updatePopulation(populationArray, minPopTimerIdx):\n",
    "    #Get the growth rate's sign to see growth or death\n",
    "    growth_rate = computeGrowthRate(populationArray, minPopTimerIdx)\n",
    "\n",
    "    if growth_rate > 0:\n",
    "        return populationArray[minPopTimerIdx] + 1\n",
    "    elif growth_rate < 0:\n",
    "        return populationArray[minPopTimerIdx] - 1\n",
    "    else:\n",
    "        return populationArray[minPopTimerIdx]\n",
    "    "
   ]
  },
  {
   "cell_type": "code",
   "execution_count": 192,
   "id": "fae885ff-223f-438f-9200-fe34661ee909",
   "metadata": {},
   "outputs": [],
   "source": [
    "def updateTimer(minTimer, givenTimer, growthOld, growthNew):\n",
    "    #This equation returns a proportionally longer growth time, based on new\n",
    "    #growth rate, but instead of making the population start from scratch or\n",
    "    #generate a new random time value, it gives it credit for the proportion\n",
    "    #of the growth it has already done, only making it grow for the proportion\n",
    "    #it had not completed -- however, that proportion is appropriately\n",
    "    #lengthened.\n",
    "    #return (1 - minTimer / givenTimer)*((growthOld / growthNew) * givenTimer)\n",
    "    if ((minTimer == float('inf')) | (givenTimer == float('inf'))):\n",
    "        return float('inf')\n",
    "    else:\n",
    "        return (1 - minTimer / givenTimer)*(givenTimer)\n"
   ]
  },
  {
   "cell_type": "code",
   "execution_count": 369,
   "id": "04908717-b8ce-4089-9c90-e46e69a2c052",
   "metadata": {},
   "outputs": [],
   "source": [
    "#Don't forget that assigning a list to a list actually just acts as a pointer and does not copy values over!\n",
    "#And this very well may be easier as an Object-Oriented program with a population object: actually, it almost\n",
    "#certainly will be.\n",
    "\n",
    "def runPopulation(numIters, initialPopulation):\n",
    "    iterations = numIters\n",
    "    #For one-dimensional numpy arrays, only use one argument\n",
    "    #These arrays have a dimension of iterations + 1 to\n",
    "    #accommodate initial conditions\n",
    "    time = np.zeros(iterations + 1)\n",
    "    popLevels = np.zeros((2, iterations + 1))\n",
    "    \n",
    "    #Simulation Parameters\n",
    "    initNumOfPopulations = 2\n",
    "    #initPopulationValue = 400\n",
    "    \n",
    "    #Initializing the population values and timer values\n",
    "    #populations = [initPopulationValue for k in range(initNumOfPopulations)]\n",
    "    populations = initialPopulation\n",
    "    growthRate = [computeGrowthRate(populations, j) for j in range(initNumOfPopulations)]\n",
    "    print(\"OG Growth Rate: {}\".format(growthRate))\n",
    "    \n",
    "    #The argument passed into the numpy exponential distribution is not the reciprocal of\n",
    "    #the growth rate, but rather, the growth rate itself, because the function calls for\n",
    "    #the scale parameter B = 1/lambda, the reciprocal of the rate parameter.\n",
    "    \n",
    "    #QUESTION: Is the exponential distribution the right one anymore? The process is\n",
    "    #non-Markovian as it is; well, maybe it is right now, but when they start affecting\n",
    "    #each others' growth rates, it is unlikely to remain so.\n",
    "    timers = [0 for j in range(initNumOfPopulations)]\n",
    "    for j in range(len(populations)):\n",
    "        if (timers[j] == 0):\n",
    "            if (growthRate[j] != 0):\n",
    "                timers[j] = np.random.exponential(1 / abs(growthRate[j]))\n",
    "            else:\n",
    "                #Assigns static populations a time of -1\n",
    "                timers[j] = float('inf')\n",
    "        #This block underneath covers the case of a static population. What if\n",
    "        #circumstances change and it needs to start generating event times again?\n",
    "        '''elif (timers[j] == float('inf')):\n",
    "            if (newGrowthRate[j] != 0):\n",
    "                timers[j] = np.random.exponential(1 / abs(growthRate[j]))'''\n",
    "    \n",
    "    print(\"OG Timers: {}\".format(timers))\n",
    "\n",
    "    popLevels[:, 0] = populations\n",
    "    \n",
    "    printing = False\n",
    "    \n",
    "    for k in range(iterations):\n",
    "        \n",
    "        if (printing):\n",
    "            print(\"\\nThis is the {}th iteration\\n\".format(k))\n",
    "        else:\n",
    "            if (k == iterations - 1):\n",
    "                print(\"\\nThis is the {}th iteration\\n\".format(k))\n",
    "        \n",
    "        #Step 1: Find minimal timer\n",
    "        minPopEventTime = min(timers)\n",
    "        if (printing):\n",
    "            print(\"Minimal Pop Event Time is {}\".format(minPopEventTime))\n",
    "        minPopTimerIdx = timers.index(minPopEventTime)\n",
    "        \n",
    "        #Step 2: Set k + 1th time value\n",
    "        #Note; in the case of a static population, one must\n",
    "        #account for the fact that minPopEventTime = inf!\n",
    "        if (minPopEventTime != float('inf')):\n",
    "            time[k + 1] = time[k] + minPopEventTime\n",
    "        else:\n",
    "            #QUESTION: What is the appropriate way to increment time here?\n",
    "            time[k + 1] = time[k] + 1\n",
    "        \n",
    "        #Step 3: Update Minimal Timer Population\n",
    "        #QUESTION: At steady state, does one need to account for a mutational turnover?\n",
    "        populations[minPopTimerIdx] = updatePopulation(populations, minPopTimerIdx)\n",
    "\n",
    "        if (printing):\n",
    "            print(\"Updated Populations: {}\".format(populations))\n",
    "        else:\n",
    "            if (k == iterations - 1):\n",
    "                print(\"Updated Populations: {}\".format(populations))\n",
    "                \n",
    "        #Input present population values into Numpy array for tracking over time\n",
    "        popLevels[:, k + 1] = populations\n",
    "        \n",
    "        #Initializing to OG Growth Rate values, to get the same size list\n",
    "        newGrowthRate = [growthRate[j] for j in range(len(growthRate))]\n",
    "        #Step 4: Update Growth Rates for each population\n",
    "        for j in range(len(populations)):\n",
    "            newGrowthRate[j] = computeGrowthRate(populations, j)\n",
    "\n",
    "        #QUESTION: Should the old growth rates be updated every iteration,\n",
    "        #even if the form of the updated timer equation isn't using them?\n",
    "        print(\"OG Growth Rates: {}\".format(growthRate))\n",
    "        \n",
    "        if (printing):\n",
    "            print(\"Updated Growth Rates: {}\".format(newGrowthRate))\n",
    "        else:\n",
    "            if (k == iterations - 1):\n",
    "                print(\"Updated Growth Rates: {}\".format(newGrowthRate))\n",
    "        \n",
    "        \n",
    "        #Step 5: Recompute Timer Values\n",
    "        for j in range(len(populations)):\n",
    "            if (timers[j] != -1):\n",
    "                timers[j] = updateTimer(minPopEventTime, timers[j], growthRate[j], newGrowthRate[j])\n",
    "    \n",
    "        if (printing):\n",
    "            print(\"Updated Timers: {}\".format(timers))\n",
    "        else:\n",
    "            if (k == iterations - 1):\n",
    "                print(\"Updated Timers: {}\".format(timers))\n",
    "        \n",
    "        #Step 5 1/2: Update old growth rates to have the new values for the next iteration.\n",
    "        #Do I really need to extend the stochastically generated spawn time proportionally?\n",
    "        #Let me see what it's like without it. Let's start simple and work our way up.\n",
    "        \n",
    "        #Step 6: Regenerate Event Time for eventified populations -- contingent upon being minimal\n",
    "        #If a population has had zero growth rate, does it still? If not, then we should generate an\n",
    "        #event time for it.\n",
    "        for j in range(len(populations)):\n",
    "            if (newGrowthRate[j] != 0):    \n",
    "                if (timers[j] == 0):\n",
    "                    timers[j] = np.random.exponential(1 / abs(newGrowthRate[j]))\n",
    "                #This block underneath covers the case of a static population. What if\n",
    "                #circumstances change and it needs to start generating event times again?\n",
    "                elif (timers[j] == float('inf')):\n",
    "                    if (newGrowthRate[j] != 0):\n",
    "                        timers[j] = np.random.exponential(1 / abs(newGrowthRate[j]))\n",
    "            else:\n",
    "                #Assigns static populations a time of positive infinity\n",
    "                timers[j] = float('inf')\n",
    "    \n",
    "        if (printing):\n",
    "            print(\"Updated and regenerated timers: {}\".format(timers))\n",
    "        else:\n",
    "            if (k == iterations - 1):\n",
    "                print(\"Updated and regenerated timers: {}\".format(timers))\n",
    "        \n",
    "        #Repeat!\n",
    "    return [time, popLevels]\n"
   ]
  },
  {
   "cell_type": "code",
   "execution_count": 370,
   "id": "8221eecb-2978-4a3c-a455-708d27598664",
   "metadata": {},
   "outputs": [
    {
     "name": "stdout",
     "output_type": "stream",
     "text": [
      "OG Growth Rate: [0.2982, 0.2982]\n",
      "OG Timers: [2.309606975407107, 0.008991680675805663]\n",
      "OG Growth Rates: [0.2982, 0.2982]\n",
      "OG Growth Rates: [0.2982, 0.2982]\n",
      "OG Growth Rates: [0.2982, 0.2982]\n",
      "OG Growth Rates: [0.2982, 0.2982]\n",
      "OG Growth Rates: [0.2982, 0.2982]\n",
      "OG Growth Rates: [0.2982, 0.2982]\n",
      "OG Growth Rates: [0.2982, 0.2982]\n",
      "OG Growth Rates: [0.2982, 0.2982]\n",
      "OG Growth Rates: [0.2982, 0.2982]\n",
      "\n",
      "This is the 9th iteration\n",
      "\n",
      "Updated Populations: [9, 7]\n",
      "OG Growth Rates: [0.2982, 0.2982]\n",
      "Updated Growth Rates: [0.8855999999999999, 0.6888]\n",
      "Updated Timers: [0.0, 0.6950167899884093]\n",
      "Updated and regenerated timers: [0.1986525349212468, 0.6950167899884093]\n",
      "\n",
      " Time Values: [0.00000000e+00 8.99168068e-03 2.30960698e+00 2.68854833e+00\n",
      " 2.92458596e+00 3.29564281e+00 4.59284194e+00 9.08124970e+00\n",
      " 1.05417438e+01 1.23484542e+01 1.29610179e+01]\n",
      "\n",
      " Population Array: [[3. 3. 4. 5. 5. 5. 5. 6. 7. 8. 9.]\n",
      " [3. 4. 4. 4. 5. 6. 7. 7. 7. 7. 7.]]\n"
     ]
    }
   ],
   "source": [
    "tVals, populationLevels = runPopulation(10, [3, 3])\n",
    "\n",
    "print(\"\\n Time Values: {}\".format(tVals))\n",
    "print(\"\\n Population Array: {}\".format(populationLevels))"
   ]
  },
  {
   "cell_type": "code",
   "execution_count": 367,
   "id": "fba4042c-e3ca-4905-9641-a1cd4e13c242",
   "metadata": {},
   "outputs": [
    {
     "data": {
      "text/plain": [
       "[<matplotlib.lines.Line2D at 0x7f9ec1816f50>]"
      ]
     },
     "execution_count": 367,
     "metadata": {},
     "output_type": "execute_result"
    },
    {
     "data": {
      "image/png": "[encoded data removed]",
      "text/plain": [
       "<Figure size 640x480 with 1 Axes>"
      ]
     },
     "metadata": {},
     "output_type": "display_data"
    }
   ],
   "source": [
    "plt.plot(tVals, populationLevels[0, :])\n",
    "plt.plot(tVals, populationLevels[1, :])"
   ]
  },
  {
   "cell_type": "code",
   "execution_count": 368,
   "id": "e8cdae26-6277-4299-8818-17b498cc11f7",
   "metadata": {},
   "outputs": [
    {
     "data": {
      "text/plain": [
       "(0.0, 1000.0)"
      ]
     },
     "execution_count": 368,
     "metadata": {},
     "output_type": "execute_result"
    },
    {
     "data": {
      "image/png": "[encoded data removed]",
      "text/plain": [
       "<Figure size 640x480 with 1 Axes>"
      ]
     },
     "metadata": {},
     "output_type": "display_data"
    }
   ],
   "source": [
    "nullClineX = np.arange(1001)\n",
    "plt.plot(nullClineX, 1000 - nullClineX)\n",
    "plt.plot(populationLevels[0, :], populationLevels[1, :])\n",
    "plt.xlim(0, 1000)\n",
    "plt.ylim(0, 1000)"
   ]
  },
  {
   "cell_type": "code",
   "execution_count": null,
   "id": "3c989201-5e6b-4a9d-9822-267d328b27c6",
   "metadata": {},
   "outputs": [],
   "source": []
  }
 ],
 "metadata": {
  "kernelspec": {
   "display_name": "Python 3 (ipykernel)",
   "language": "python",
   "name": "python3"
  },
  "language_info": {
   "codemirror_mode": {
    "name": "ipython",
    "version": 3
   },
   "file_extension": ".py",
   "mimetype": "text/x-python",
   "name": "python",
   "nbconvert_exporter": "python",
   "pygments_lexer": "ipython3",
   "version": "3.11.4"
  }
 },
 "nbformat": 4,
 "nbformat_minor": 5
}
