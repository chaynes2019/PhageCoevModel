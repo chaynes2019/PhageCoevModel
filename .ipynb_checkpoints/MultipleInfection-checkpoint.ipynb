{
 "cells": [
  {
   "cell_type": "code",
   "execution_count": 1,
   "id": "802393b9-d736-4bd6-8114-b13a818d62d8",
   "metadata": {},
   "outputs": [],
   "source": [
    "import numpy as np"
   ]
  },
  {
   "cell_type": "markdown",
   "id": "cd84e558-b3a1-4a7b-b631-19a5bdb02d9e",
   "metadata": {},
   "source": [
    "So, if we consider just a clonal population of potential hosts (as in the computationally tractable model), we find that their adsorption probabilities and their probabilities of being selected at any given moment in time are equal in the well-mixed case by symmetry. That means that the probability distribution of how many adsorbing phage a host has is the same for each individual in the whole clonal population.\n",
    "\n",
    "Similarly, the number of marks each weighted coin receives is the same across the whole population. One can imagine drawing a coin from the population's bag, marking it, and then replacing it. The probability that a coin is chosen is not affected by its number of marks. Fpr a given coin $k$, this process is essentially choosing a coin from the bag and having two outcomes: it is either $k$, with probability 1/$n_{coins}$, or it is not $k$ with probability $1 - 1 / n_{coins}$. Then, the probability of coin $k$ having $M$ marks after $n$ trials is merely the probability of getting coin $k$ $M$ times and not getting it $n - M$ times, summed over all the different ways that could happen. This means that the probability of coin $k$ having $M$ marks is drawn from a binomial distribution.\n",
    "\n",
    "However, we don't even have to really worry all that much about using the binomial distribution because we're concerned with getting the total number of hosts who have been infected at least once. The fraction of the host population that has been infected at least once is given by the sum of $P(M(k) = i)$ $\\forall i \\geq 1$. So, we could compute this sum, or we could find the fraction of the host population that hasn't been infected at all and subtract it from $1$ to get the sum in question. Let's do the second approach, especially because that removes all combinatorics from the equation."
   ]
  },
  {
   "cell_type": "code",
   "execution_count": 1,
   "id": "bcecef3f-763f-4301-9d34-95f4abeb0627",
   "metadata": {},
   "outputs": [],
   "source": [
    "def fracHostsInfectedOnce(numHosts, numInfectingPhage):\n",
    "    #[(hosts - 1)/ hosts]^phage)\n",
    "    return 1 - ((numHosts - 1) / numHosts)**numInfectingPhage"
   ]
  },
  {
   "cell_type": "code",
   "execution_count": 2,
   "id": "b08258c6-28e3-4823-a90c-d972db106f9e",
   "metadata": {},
   "outputs": [
    {
     "data": {
      "text/plain": [
       "0.9999546000576245"
      ]
     },
     "execution_count": 2,
     "metadata": {},
     "output_type": "execute_result"
    }
   ],
   "source": [
    "fracHostsInfectedOnce(1000000000, 10000000000)"
   ]
  },
  {
   "cell_type": "code",
   "execution_count": 3,
   "id": "6a0662a3-1721-45c5-9b8e-97e3f9a8f24a",
   "metadata": {},
   "outputs": [
    {
     "data": {
      "text/plain": [
       "999999997.9388452"
      ]
     },
     "execution_count": 3,
     "metadata": {},
     "output_type": "execute_result"
    }
   ],
   "source": [
    "numHosts = 1000000000\n",
    "numPhage = 20*numHosts\n",
    "numHosts*fracHostsInfectedOnce(numHosts, numPhage)"
   ]
  },
  {
   "cell_type": "code",
   "execution_count": null,
   "id": "5a55d96d-852f-4813-b641-28a4fda79d7d",
   "metadata": {},
   "outputs": [],
   "source": []
  }
 ],
 "metadata": {
  "kernelspec": {
   "display_name": "Python 3 (ipykernel)",
   "language": "python",
   "name": "python3"
  },
  "language_info": {
   "codemirror_mode": {
    "name": "ipython",
    "version": 3
   },
   "file_extension": ".py",
   "mimetype": "text/x-python",
   "name": "python",
   "nbconvert_exporter": "python",
   "pygments_lexer": "ipython3",
   "version": "3.11.4"
  }
 },
 "nbformat": 4,
 "nbformat_minor": 5
}
