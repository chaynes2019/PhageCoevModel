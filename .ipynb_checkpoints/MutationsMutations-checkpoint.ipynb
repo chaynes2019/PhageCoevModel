{
 "cells": [
  {
   "cell_type": "markdown",
   "id": "e63c6afd-39ae-487e-a431-d0f3caee75e4",
   "metadata": {},
   "source": [
    "Now, we're going to up the ante a little. Instead of starting with two populations, we'll instead establish a mutational network connecting a few (at first two) genotypes with differential fitnesses and implement mutation as a possible outcome of a growth event."
   ]
  },
  {
   "cell_type": "code",
   "execution_count": 21,
   "id": "cca4d5a8-cd09-418d-8e9f-d8cc1a38138f",
   "metadata": {},
   "outputs": [],
   "source": [
    "import numpy as np\n",
    "import matplotlib.pyplot as plt\n",
    "import math"
   ]
  },
  {
   "cell_type": "code",
   "execution_count": 72,
   "id": "7de06550-6ae3-45b1-8cab-768e3680aa1b",
   "metadata": {},
   "outputs": [],
   "source": [
    "def computeGrowthRate(pops, popIdx, carryingCapacity = 1000):\n",
    "    if popIdx == 0:\n",
    "        return pops[0]*(1 - (pops[0] + pops[1]) / carryingCapacity) / 10\n",
    "    elif popIdx == 1:\n",
    "        return 10*pops[1]*(1 - (pops[0] + pops[1]) / carryingCapacity) / 10\n",
    "    else:\n",
    "        print(\"Your population indices need some work.\")"
   ]
  },
  {
   "cell_type": "code",
   "execution_count": 73,
   "id": "50d3ffc0-06af-454a-976b-ef3ab770eaef",
   "metadata": {},
   "outputs": [],
   "source": [
    "'''def updatePopulation(populationArray, minPopTimerIdx):\n",
    "    #Get the growth rate's sign to see growth or death\n",
    "    growth_rate = computeGrowthRate(populationArray, minPopTimerIdx)\n",
    "\n",
    "    if growth_rate > 0:\n",
    "        return populationArray[minPopTimerIdx] + 1\n",
    "    elif growth_rate < 0:\n",
    "        return populationArray[minPopTimerIdx] - 1\n",
    "    else:\n",
    "        return populationArray[minPopTimerIdx]\n",
    "    '''"
   ]
  },
  {
   "cell_type": "markdown",
   "id": "3ecab066-8149-40b7-8930-15ab69e3d691",
   "metadata": {},
   "source": [
    "So, to implement the mutation matrix, we'll have to reference it within updatePopulation; thankfully, we're already passing in the index of the population experiencing the event, so that can be used to find the row of probabilities to use. To randomly select a population to grant the mutation to, I could create a list [0, 1, 2, ..., nPops] that can then be fed into numpy.random.choice, and then the row of the mutation matrix corresponding to the population could be fed in as the weights argument: then, it should select 0, 1, 2... with the appropriate probabilities, and then the population corresponding to that index could be incremented.\n",
    "\n",
    "This will have downstream effects in the assignment in the main simulation function that will have to be dealt with. By returning a list in all three cases, the second and third returning second elements of None, the simulation function ought to be able to distinguish when a growth event has occurred and make sure that the appropriate population is getting updated.\n",
    "\n",
    "Wait; why don't I just always return the index of the population that the thing occurred to as the second element? Then, it ought to be able to correctly assign it immediately without any logic flow.\n",
    "\n",
    "Note: an important test case to use -- letting the mutation matrix be equal to the identity matrix. In this instance, the system should behave as before."
   ]
  },
  {
   "cell_type": "code",
   "execution_count": 74,
   "id": "fd8d75ca-a4a7-4bde-8b4d-344ad80b919a",
   "metadata": {},
   "outputs": [],
   "source": [
    "def updatePopulation(populationArray, minPopTimerIdx, mutationMatrix):\n",
    "    #Get the growth rate's sign to see growth or death\n",
    "    growth_rate = computeGrowthRate(populationArray, minPopTimerIdx)\n",
    "\n",
    "    if growth_rate > 0:\n",
    "        localMutationProbabilities = mutationMatrix[minPopTimerIdx, :]\n",
    "        possibilities = [n for n in range(len(populationArray))]\n",
    "        #random.choice(what you're choosing from, how many you're choosing, are you replacing, weights)\n",
    "        spawnChoiceIdx = np.random.choice(possibilities, None, True, localMutationProbabilities)\n",
    "        return [populationArray[spawnChoiceIdx] + 1, spawnChoiceIdx]\n",
    "    elif growth_rate < 0:\n",
    "        return [populationArray[minPopTimerIdx] - 1, minPopTimerIdx]\n",
    "    else:\n",
    "        return [populationArray[minPopTimerIdx], minPopTimerIdx]\n",
    "    "
   ]
  },
  {
   "cell_type": "code",
   "execution_count": 75,
   "id": "27b61bd3-b549-4e1c-9092-dc686be61f79",
   "metadata": {},
   "outputs": [],
   "source": [
    "def updateTimer(minTimer, givenTimer, growthOld, growthNew):\n",
    "    #This equation returns a proportionally longer growth time, based on new\n",
    "    #growth rate, but instead of making the population start from scratch or\n",
    "    #generate a new random time value, it gives it credit for the proportion\n",
    "    #of the growth it has already done, only making it grow for the proportion\n",
    "    #it had not completed -- however, that proportion is appropriately\n",
    "    #lengthened.\n",
    "    #return (1 - minTimer / givenTimer)*((growthOld / growthNew) * givenTimer)\n",
    "    if ((minTimer == float('inf')) | (givenTimer == float('inf'))):\n",
    "        return float('inf')\n",
    "    else:\n",
    "        return (1 - minTimer / givenTimer)*(givenTimer)"
   ]
  },
  {
   "cell_type": "code",
   "execution_count": 96,
   "id": "47bb4d9a-3915-42b2-8a1d-3b43e5f94710",
   "metadata": {},
   "outputs": [],
   "source": [
    "def runPopulation(numIters, initialPopulation):\n",
    "    iterations = numIters\n",
    "    #For one-dimensional numpy arrays, only use one argument\n",
    "    #These arrays have a dimension of iterations + 1 to\n",
    "    #accommodate initial conditions\n",
    "    time = np.zeros(iterations + 1)\n",
    "    popLevels = np.zeros((2, iterations + 1))\n",
    "    \n",
    "    #Simulation Parameters\n",
    "    initNumOfPopulations = 2\n",
    "    #initPopulationValue = 400\n",
    "    \n",
    "    #Initializing the population values and timer values\n",
    "    #populations = [initPopulationValue for k in range(initNumOfPopulations)]\n",
    "    populations = initialPopulation\n",
    "    growthRate = [computeGrowthRate(populations, j) for j in range(initNumOfPopulations)]\n",
    "    print(\"OG Growth Rate: {}\".format(growthRate))\n",
    "\n",
    "    #The argument passed into the numpy exponential distribution is not the reciprocal of\n",
    "    #the growth rate, but rather, the growth rate itself, because the function calls for\n",
    "    #the scale parameter B = 1/lambda, the reciprocal of the rate parameter.\n",
    "\n",
    "    #Creating the mutation matrix\n",
    "    mutationMatrix = np.zeros((initNumOfPopulations, initNumOfPopulations))\n",
    "    mutationMatrix[0, 0] = 0.99\n",
    "    mutationMatrix[0, 1] = 0.01\n",
    "    mutationMatrix[1, 0] = 0.01\n",
    "    mutationMatrix[1, 1] = 0.99\n",
    "\n",
    "    \n",
    "    #QUESTION: Is the exponential distribution the right one anymore? The process is\n",
    "    #non-Markovian as it is; well, maybe it is right now, but when they start affecting\n",
    "    #each others' growth rates, it is unlikely to remain so.\n",
    "    timers = [0 for j in range(initNumOfPopulations)]\n",
    "    for j in range(len(populations)):\n",
    "        if (timers[j] == 0):\n",
    "            if (growthRate[j] != 0):\n",
    "                timers[j] = np.random.exponential(1 / abs(growthRate[j]))\n",
    "            else:\n",
    "                #Assigns static populations a time of -1\n",
    "                timers[j] = float('inf')\n",
    "        #This block underneath covers the case of a static population. What if\n",
    "        #circumstances change and it needs to start generating event times again?\n",
    "        '''elif (timers[j] == float('inf')):\n",
    "            if (newGrowthRate[j] != 0):\n",
    "                timers[j] = np.random.exponential(1 / abs(growthRate[j]))'''\n",
    "    \n",
    "    print(\"OG Timers: {}\".format(timers))\n",
    "\n",
    "    popLevels[:, 0] = populations\n",
    "    \n",
    "    printing = False\n",
    "    \n",
    "    for k in range(iterations):\n",
    "        \n",
    "        if (printing):\n",
    "            print(\"\\nThis is the {}th iteration\\n\".format(k))\n",
    "        else:\n",
    "            if (k == iterations - 1):\n",
    "                print(\"\\nThis is the {}th iteration\\n\".format(k))\n",
    "        \n",
    "        #Step 1: Find minimal timer\n",
    "        minPopEventTime = min(timers)\n",
    "        if (printing):\n",
    "            print(\"Minimal Pop Event Time is {}\".format(minPopEventTime))\n",
    "        minPopTimerIdx = timers.index(minPopEventTime)\n",
    "        \n",
    "        #Step 2: Set k + 1th time value\n",
    "        #Note; in the case of a static population, one must\n",
    "        #account for the fact that minPopEventTime = inf!\n",
    "        if (minPopEventTime != float('inf')):\n",
    "            time[k + 1] = time[k] + minPopEventTime\n",
    "        else:\n",
    "            #QUESTION: What is the appropriate way to increment time here?\n",
    "            time[k + 1] = time[k] + 1\n",
    "        \n",
    "        #Step 3: Update Population experiencing event\n",
    "        #QUESTION: At steady state, does one need to account for a mutational turnover?\n",
    "\n",
    "        \n",
    "        updatedPopulationLevel, eventPopIdx = updatePopulation(populations, minPopTimerIdx, mutationMatrix)\n",
    "        populations[eventPopIdx] = updatedPopulationLevel\n",
    "\n",
    "        if (printing):\n",
    "            print(\"Updated Populations: {}\".format(populations))\n",
    "        else:\n",
    "            if (k == iterations - 1):\n",
    "                print(\"Updated Populations: {}\".format(populations))\n",
    "                \n",
    "        #Input present population values into Numpy array for tracking over time\n",
    "        popLevels[:, k + 1] = populations\n",
    "        \n",
    "        #Initializing to OG Growth Rate values, to get the same size list\n",
    "        newGrowthRate = [growthRate[j] for j in range(len(growthRate))]\n",
    "        #Step 4: Update Growth Rates for each population\n",
    "        for j in range(len(populations)):\n",
    "            newGrowthRate[j] = computeGrowthRate(populations, j)\n",
    "    \n",
    "        if (printing):\n",
    "            print(\"Updated Growth Rates: {}\".format(newGrowthRate))\n",
    "        else:\n",
    "            if (k == iterations - 1):\n",
    "                print(\"Updated Growth Rates: {}\".format(newGrowthRate))\n",
    "        \n",
    "        \n",
    "        #Step 5: Recompute Timer Values\n",
    "        for j in range(len(populations)):\n",
    "            if (timers[j] != -1):\n",
    "                timers[j] = updateTimer(minPopEventTime, timers[j], growthRate[j], newGrowthRate[j])\n",
    "    \n",
    "        if (printing):\n",
    "            print(\"Updated Timers: {}\".format(timers))\n",
    "        else:\n",
    "            if (k == iterations - 1):\n",
    "                print(\"Updated Timers: {}\".format(timers))\n",
    "        \n",
    "        #Step 5 1/2: Update old growth rates to have the new values for the next iteration.\n",
    "        #Do I really need to extend the stochastically generated spawn time proportionally?\n",
    "        #Let me see what it's like without it. Let's start simple and work our way up.\n",
    "        \n",
    "        #Step 6: Regenerate Event Time for eventified populations -- contingent upon being minimal\n",
    "        #If a population has had zero growth rate, does it still? If not, then we should generate an\n",
    "        #event time for it.\n",
    "        for j in range(len(populations)):\n",
    "            if (newGrowthRate[j] != 0):    \n",
    "                if (timers[j] == 0):\n",
    "                    timers[j] = np.random.exponential(1 / abs(newGrowthRate[j]))\n",
    "                #This block underneath covers the case of a static population. What if\n",
    "                #circumstances change and it needs to start generating event times again?\n",
    "                elif (timers[j] == float('inf')):\n",
    "                    if (newGrowthRate[j] != 0):\n",
    "                        timers[j] = np.random.exponential(1 / abs(newGrowthRate[j]))\n",
    "            else:\n",
    "                #Assigns static populations a time of positive infinity\n",
    "                timers[j] = float('inf')\n",
    "    \n",
    "        if (printing):\n",
    "            print(\"Updated and regenerated timers: {}\".format(timers))\n",
    "        else:\n",
    "            if (k == iterations - 1):\n",
    "                print(\"Updated and regenerated timers: {}\".format(timers))\n",
    "        \n",
    "        #Repeat!\n",
    "    return [time, popLevels]"
   ]
  },
  {
   "cell_type": "code",
   "execution_count": 116,
   "id": "e53fdbb3-d891-4585-95f9-1d8d70614632",
   "metadata": {},
   "outputs": [
    {
     "name": "stdout",
     "output_type": "stream",
     "text": [
      "OG Growth Rate: [15.999999999999996, 0.0]\n",
      "OG Timers: [0.07502287201396164, inf]\n",
      "\n",
      "This is the 999th iteration\n",
      "\n",
      "Updated Populations: [993, 7]\n",
      "Updated Growth Rates: [0.0, 0.0]\n",
      "Updated Timers: [inf, inf]\n",
      "Updated and regenerated timers: [inf, inf]\n"
     ]
    },
    {
     "data": {
      "text/plain": [
       "[<matplotlib.lines.Line2D at 0x7f601741e090>]"
      ]
     },
     "execution_count": 116,
     "metadata": {},
     "output_type": "execute_result"
    },
    {
     "data": {
      "image/png": "[encoded data removed]",
      "text/plain": [
       "<Figure size 640x480 with 1 Axes>"
      ]
     },
     "metadata": {},
     "output_type": "display_data"
    }
   ],
   "source": [
    "tVals, populationLevels = runPopulation(1000, [800, 0])\n",
    "\n",
    "plt.plot(tVals, populationLevels[0, :])\n",
    "plt.plot(tVals, populationLevels[1, :])"
   ]
  },
  {
   "cell_type": "code",
   "execution_count": 109,
   "id": "676884d0-e11a-4790-96e7-81d56a775ccc",
   "metadata": {},
   "outputs": [
    {
     "data": {
      "text/plain": [
       "(0.0, 1000.0)"
      ]
     },
     "execution_count": 109,
     "metadata": {},
     "output_type": "execute_result"
    },
    {
     "data": {
      "image/png": "[encoded data removed]",
      "text/plain": [
       "<Figure size 640x480 with 1 Axes>"
      ]
     },
     "metadata": {},
     "output_type": "display_data"
    }
   ],
   "source": [
    "nullClineX = np.arange(1001)\n",
    "plt.plot(nullClineX, 1000 - nullClineX)\n",
    "plt.plot(populationLevels[0, :], populationLevels[1, :])\n",
    "plt.xlim(0, 1000)\n",
    "plt.ylim(0, 1000)"
   ]
  },
  {
   "cell_type": "code",
   "execution_count": null,
   "id": "80cc869d-6355-4ecd-b4d9-eebb65b07f57",
   "metadata": {},
   "outputs": [],
   "source": []
  }
 ],
 "metadata": {
  "kernelspec": {
   "display_name": "Python 3 (ipykernel)",
   "language": "python",
   "name": "python3"
  },
  "language_info": {
   "codemirror_mode": {
    "name": "ipython",
    "version": 3
   },
   "file_extension": ".py",
   "mimetype": "text/x-python",
   "name": "python",
   "nbconvert_exporter": "python",
   "pygments_lexer": "ipython3",
   "version": "3.11.4"
  }
 },
 "nbformat": 4,
 "nbformat_minor": 5
}
