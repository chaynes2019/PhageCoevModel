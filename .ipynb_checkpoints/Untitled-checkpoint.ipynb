{
 "cells": [
  {
   "cell_type": "code",
   "execution_count": 6,
   "id": "9f5b1a98-c93f-4034-a9e0-715554c8e108",
   "metadata": {},
   "outputs": [
    {
     "name": "stdout",
     "output_type": "stream",
     "text": [
      "6\n",
      "5\n",
      "(1, 2)\n"
     ]
    }
   ],
   "source": [
    "import numpy as np\n",
    "import random\n",
    "\n",
    "peep = [[1, 2, 3], [4, 5, 6]]\n",
    "peepVals = [val for subPeep in peep for val in subPeep]\n",
    "maxVal = max(peepVals)\n",
    "print(maxVal)\n",
    "firstListLength = 3\n",
    "maxIdx = peepVals.index(maxVal)\n",
    "print(maxIdx)\n",
    "if maxIdx <= (firstListLength - 1):\n",
    "    print(\"(0, {})\".format(maxIdx))\n",
    "else:\n",
    "    print(\"(1, {})\".format(maxIdx - firstListLength))"
   ]
  },
  {
   "cell_type": "code",
   "execution_count": 26,
   "id": "54ceaf8e-63f7-4fea-a43d-f7a317112698",
   "metadata": {},
   "outputs": [
    {
     "name": "stdout",
     "output_type": "stream",
     "text": [
      "0.4\n"
     ]
    }
   ],
   "source": [
    "infectionWeights = np.array([0.5, 0.3, 0.2])\n",
    "popFracs = np.array([0.5, 0.5, 0])\n",
    "print(np.dot(infectionWeights, popFracs))"
   ]
  },
  {
   "cell_type": "code",
   "execution_count": 11,
   "id": "7878fef5-13ba-49e1-8bc8-ce1550d3b8fc",
   "metadata": {},
   "outputs": [
    {
     "data": {
      "text/plain": [
       "0.26"
      ]
     },
     "execution_count": 11,
     "metadata": {},
     "output_type": "execute_result"
    }
   ],
   "source": [
    "random.randrange(-100, 100, 1) / 100"
   ]
  },
  {
   "cell_type": "code",
   "execution_count": null,
   "id": "38c9356f-1d15-4d24-bcee-de53b674f3d5",
   "metadata": {},
   "outputs": [],
   "source": [
    "\n",
    "\n"
   ]
  }
 ],
 "metadata": {
  "kernelspec": {
   "display_name": "Python 3 (ipykernel)",
   "language": "python",
   "name": "python3"
  },
  "language_info": {
   "codemirror_mode": {
    "name": "ipython",
    "version": 3
   },
   "file_extension": ".py",
   "mimetype": "text/x-python",
   "name": "python",
   "nbconvert_exporter": "python",
   "pygments_lexer": "ipython3",
   "version": "3.11.4"
  }
 },
 "nbformat": 4,
 "nbformat_minor": 5
}
